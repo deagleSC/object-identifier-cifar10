{
  "nbformat": 4,
  "nbformat_minor": 0,
  "metadata": {
    "accelerator": "TPU",
    "colab": {
      "name": "ObjectIdentifier.ipynb",
      "provenance": [],
      "collapsed_sections": []
    },
    "kernelspec": {
      "display_name": "Python 3",
      "name": "python3"
    },
    "language_info": {
      "name": "python"
    }
  },
  "cells": [
    {
      "cell_type": "code",
      "metadata": {
        "id": "NTQBse3cXGbV"
      },
      "source": [
        "import tensorflow as tf\n",
        "from tensorflow import keras\n",
        "from tensorflow.keras import layers\n",
        "from tensorflow.keras.datasets import cifar10"
      ],
      "execution_count": null,
      "outputs": []
    },
    {
      "cell_type": "code",
      "metadata": {
        "id": "tY3astWXcclJ"
      },
      "source": [
        "(x_train, y_train), (x_test, y_test) = cifar10.load_data()"
      ],
      "execution_count": null,
      "outputs": []
    },
    {
      "cell_type": "code",
      "metadata": {
        "id": "W4okzsqFdD8b"
      },
      "source": [
        "x_train = x_train.astype(\"float32\") / 255.0\n",
        "x_test = x_test.astype(\"float32\") / 255.0"
      ],
      "execution_count": null,
      "outputs": []
    },
    {
      "cell_type": "code",
      "metadata": {
        "colab": {
          "base_uri": "https://localhost:8080/"
        },
        "id": "yk1ERXLOdXNP",
        "outputId": "6a2df5ad-4d66-4ce7-dfa1-44708a7c8ec7"
      },
      "source": [
        "model = keras.Sequential(\n",
        "    [\n",
        "     keras.Input(shape = (32,32,3)),\n",
        "     layers.Conv2D(32, 3, padding=\"same\", activation=\"relu\"),\n",
        "     layers.MaxPooling2D(pool_size=(2,2)),\n",
        "     layers.Conv2D(64, 3, padding=\"same\", activation=\"relu\"),\n",
        "     layers.MaxPooling2D(),\n",
        "     layers.Conv2D(128, 3, padding=\"same\", activation=\"relu\"),\n",
        "     layers.Flatten(),\n",
        "     layers.Dense(64, activation=\"relu\"),\n",
        "     layers.Dense(10),\n",
        "    ]\n",
        ")"
      ],
      "execution_count": null,
      "outputs": [
        {
          "output_type": "stream",
          "text": [
            "WARNING:tensorflow:Please add `keras.layers.InputLayer` instead of `keras.Input` to Sequential model. `keras.Input` is intended to be used by Functional model.\n"
          ],
          "name": "stdout"
        }
      ]
    },
    {
      "cell_type": "code",
      "metadata": {
        "colab": {
          "base_uri": "https://localhost:8080/"
        },
        "id": "0Mpmx8XCKsLf",
        "outputId": "94c7e91b-0271-4597-9625-22ab15be1331"
      },
      "source": [
        "model.compile(\n",
        "    loss = keras.losses.SparseCategoricalCrossentropy(from_logits=True),\n",
        "    optimizer = keras.optimizers.Adam(lr=3e-4),\n",
        "    metrics = [\"accuracy\"],\n",
        ")"
      ],
      "execution_count": null,
      "outputs": [
        {
          "output_type": "stream",
          "text": [
            "/usr/local/lib/python3.7/dist-packages/tensorflow/python/keras/optimizer_v2/optimizer_v2.py:375: UserWarning: The `lr` argument is deprecated, use `learning_rate` instead.\n",
            "  \"The `lr` argument is deprecated, use `learning_rate` instead.\")\n"
          ],
          "name": "stderr"
        }
      ]
    },
    {
      "cell_type": "code",
      "metadata": {
        "colab": {
          "background_save": true,
          "base_uri": "https://localhost:8080/"
        },
        "id": "KWlZEM1CLd4i",
        "outputId": "26d15269-6260-4eed-e6f9-3e53c932abf9"
      },
      "source": [
        "model.fit(x_train, y_train, batch_size=64, epochs=10, verbose=2)\n",
        "model.evaluate(x_test, y_test, batch_size=64, verbose=2)"
      ],
      "execution_count": null,
      "outputs": [
        {
          "output_type": "stream",
          "text": [
            "Epoch 1/10\n",
            "782/782 - 103s - loss: 0.1918 - accuracy: 0.9364\n",
            "Epoch 2/10\n",
            "782/782 - 103s - loss: 0.1656 - accuracy: 0.9469\n",
            "Epoch 3/10\n",
            "782/782 - 103s - loss: 0.1471 - accuracy: 0.9525\n",
            "Epoch 4/10\n",
            "782/782 - 103s - loss: 0.1240 - accuracy: 0.9607\n",
            "Epoch 5/10\n",
            "782/782 - 103s - loss: 0.1088 - accuracy: 0.9654\n",
            "Epoch 6/10\n",
            "782/782 - 103s - loss: 0.0952 - accuracy: 0.9705\n",
            "Epoch 7/10\n",
            "782/782 - 103s - loss: 0.0860 - accuracy: 0.9738\n",
            "Epoch 8/10\n",
            "782/782 - 103s - loss: 0.0732 - accuracy: 0.9778\n",
            "Epoch 9/10\n",
            "782/782 - 103s - loss: 0.0688 - accuracy: 0.9783\n",
            "Epoch 10/10\n",
            "782/782 - 103s - loss: 0.0543 - accuracy: 0.9843\n",
            "157/157 - 5s - loss: 1.5118 - accuracy: 0.7293\n"
          ],
          "name": "stdout"
        },
        {
          "output_type": "execute_result",
          "data": {
            "text/plain": [
              "[1.5117930173873901, 0.7293000221252441]"
            ]
          },
          "metadata": {
            "tags": []
          },
          "execution_count": 0
        }
      ]
    },
    {
      "cell_type": "code",
      "metadata": {
        "id": "aSpcnEW_MAsq"
      },
      "source": [
        "model.save('model.h5')"
      ],
      "execution_count": null,
      "outputs": []
    },
    {
      "cell_type": "code",
      "metadata": {
        "colab": {
          "base_uri": "https://localhost:8080/"
        },
        "id": "0k8Lo9ZqaKna",
        "outputId": "8fe398f1-f9a7-4b59-f67e-ee6c39430b24"
      },
      "source": [
        "saved_model = keras.models.load_model('./model.h5')\n",
        "saved_model.predict(x_test)"
      ],
      "execution_count": null,
      "outputs": [
        {
          "output_type": "execute_result",
          "data": {
            "text/plain": [
              "array([[  9.108884 ,  14.680792 , -10.833942 ,  -4.6781697,  -8.805697 ,\n",
              "         -3.8885143, -12.696902 , -21.26303  ,  30.844404 ,   3.6461673]],\n",
              "      dtype=float32)"
            ]
          },
          "metadata": {
            "tags": []
          },
          "execution_count": 39
        }
      ]
    },
    {
      "cell_type": "code",
      "metadata": {
        "id": "iQavBInQb3xb"
      },
      "source": [
        ""
      ],
      "execution_count": null,
      "outputs": []
    }
  ]
}